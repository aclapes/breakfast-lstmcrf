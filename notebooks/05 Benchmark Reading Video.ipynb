{
 "cells": [
  {
   "cell_type": "code",
   "execution_count": 1,
   "metadata": {
    "collapsed": false
   },
   "outputs": [],
   "source": [
    "from keras.preprocessing.video import video_to_array\n",
    "from work.dataset.activitynet import ActivityNetDataset\n",
    "\n",
    "VIDEOS_PATH = '/imatge/amontes/work/datasets/ActivityNet/v1.3/videos'\n",
    "dataset = ActivityNetDataset(\n",
    "    videos_path='../dataset/videos.json',\n",
    "    labels_path='../dataset/labels.txt',\n",
    "    stored_videos_path=VIDEOS_PATH,\n",
    "    files_extension='mp4'\n",
    ")\n",
    "\n",
    "\n",
    "test_video = None\n",
    "for video in dataset.videos:\n",
    "    if video.video_id == '7Zd7KlliqQw':\n",
    "        test_video = video\n",
    "        break\n",
    "\n",
    "instances = test_video.get_video_instances(length=16, overlap=0)"
   ]
  },
  {
   "cell_type": "code",
   "execution_count": 2,
   "metadata": {
    "collapsed": false
   },
   "outputs": [
    {
     "name": "stdout",
     "output_type": "stream",
     "text": [
      "196\n"
     ]
    }
   ],
   "source": [
    "print(len(instances))"
   ]
  },
  {
   "cell_type": "code",
   "execution_count": 3,
   "metadata": {
    "collapsed": false
   },
   "outputs": [
    {
     "name": "stdout",
     "output_type": "stream",
     "text": [
      "(32, 3, 16, 112, 112)\n",
      "Last 16.8919019699 seconds.\n"
     ]
    }
   ],
   "source": [
    "import time\n",
    "import numpy as np\n",
    "\n",
    "path = '/imatge/amontes/work/datasets/ActivityNet/v1.3/videos/7Zd7KlliqQw.mp4'\n",
    "batch_size = 32\n",
    "t1 = time.time()\n",
    "bX = np.zeros((batch_size, 3, 16, 112, 112))\n",
    "for i in range(batch_size):\n",
    "    instance = instances[i]\n",
    "    x = video_to_array(path, resize=(112, 112), start_frame=instance.start_frame, length=16)\n",
    "    bX[i] = x.astype(np.float32)\n",
    "    \n",
    "print(bX.shape) \n",
    "t2 = time.time()\n",
    "print('Last {} seconds.'.format(t2-t1))"
   ]
  },
  {
   "cell_type": "code",
   "execution_count": null,
   "metadata": {
    "collapsed": false
   },
   "outputs": [],
   "source": [
    "for i in range(1, 10, 3):\n",
    "    print(i)"
   ]
  },
  {
   "cell_type": "code",
   "execution_count": null,
   "metadata": {
    "collapsed": true
   },
   "outputs": [],
   "source": []
  }
 ],
 "metadata": {
  "kernelspec": {
   "display_name": "Python 2",
   "language": "python",
   "name": "python2"
  },
  "language_info": {
   "codemirror_mode": {
    "name": "ipython",
    "version": 2
   },
   "file_extension": ".py",
   "mimetype": "text/x-python",
   "name": "python",
   "nbconvert_exporter": "python",
   "pygments_lexer": "ipython2",
   "version": "2.7.3"
  }
 },
 "nbformat": 4,
 "nbformat_minor": 0
}
