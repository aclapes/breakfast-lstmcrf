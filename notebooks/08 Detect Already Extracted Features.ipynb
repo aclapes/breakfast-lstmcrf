{
 "cells": [
  {
   "cell_type": "code",
   "execution_count": 2,
   "metadata": {
    "collapsed": false
   },
   "outputs": [
    {
     "name": "stdout",
     "output_type": "stream",
     "text": [
      "Videos already downloaded: 3936 videos\n",
      "Total number of videos: 15821 videos\n"
     ]
    }
   ],
   "source": [
    "from work.dataset.activitynet import ActivityNetDataset\n",
    "from work.config import (STORED_FEATURES_PATH, STORED_VIDEOS_EXTENSION,\n",
    "                         STORED_VIDEOS_PATH)\n",
    "from keras.preprocessing.image import list_pictures\n",
    "from os import listdir\n",
    "\n",
    "dataset = ActivityNetDataset(\n",
    "    videos_path='../dataset/videos.json',\n",
    "    labels_path='../dataset/labels.txt',\n",
    "    stored_videos_path=STORED_VIDEOS_PATH,\n",
    "    files_extension=STORED_VIDEOS_EXTENSION\n",
    ")\n",
    "# Removing the videos which already were extracted its features\n",
    "features_ids = [f[:-4] for f in listdir(STORED_FEATURES_PATH) if f[-4:] == '.npy']\n",
    "print('Videos already downloaded: {} videos'.format(len(features_ids)))\n",
    "to_remove = []\n",
    "for video in dataset.videos:\n",
    "    if video.video_id in features_ids:\n",
    "        to_remove.append(video)\n",
    "for video in to_remove:\n",
    "    dataset.videos.remove(video)\n",
    "nb_videos = len(dataset.videos)\n",
    "print('Total number of videos: {} videos'.format(nb_videos))"
   ]
  },
  {
   "cell_type": "code",
   "execution_count": 3,
   "metadata": {
    "collapsed": false
   },
   "outputs": [
    {
     "name": "stdout",
     "output_type": "stream",
     "text": [
      "3357\n",
      "['/imatge/amontes/work/datasets/ActivityNet/v1.3/features/vm64rRECzZM.npy', '/imatge/amontes/work/datasets/ActivityNet/v1.3/features/TxYZLJQOHvY.npy', '/imatge/amontes/work/datasets/ActivityNet/v1.3/features/f0hh9bwVfV0.npy', '/imatge/amontes/work/datasets/ActivityNet/v1.3/features/8cbHNUbu3Tk.npy', '/imatge/amontes/work/datasets/ActivityNet/v1.3/features/eMkBTRYwBAU.npy', '/imatge/amontes/work/datasets/ActivityNet/v1.3/features/kC8DS6b76yI.npy', '/imatge/amontes/work/datasets/ActivityNet/v1.3/features/HNIs8lFvKkA.npy', '/imatge/amontes/work/datasets/ActivityNet/v1.3/features/QRcwvzq7QUM.npy', '/imatge/amontes/work/datasets/ActivityNet/v1.3/features/c1T9LbXOVUs.npy', '/imatge/amontes/work/datasets/ActivityNet/v1.3/features/CcKeoeSZVnE.npy']\n"
     ]
    }
   ],
   "source": [
    "print(len(extracted_features_files))\n",
    "print(extracted_features_files[:10])"
   ]
  },
  {
   "cell_type": "code",
   "execution_count": 8,
   "metadata": {
    "collapsed": false
   },
   "outputs": [
    {
     "name": "stdout",
     "output_type": "stream",
     "text": [
      "3936\n",
      "['vm64rRECzZM', 'TxYZLJQOHvY', 'f0hh9bwVfV0', '8cbHNUbu3Tk', 'eMkBTRYwBAU', 'kC8DS6b76yI', 'HNIs8lFvKkA', 'QRcwvzq7QUM', 'c1T9LbXOVUs', 'CcKeoeSZVnE']\n"
     ]
    }
   ],
   "source": [
    "from os import listdir\n",
    "\n",
    "all_files = [f[:-4] for f in listdir(STORED_FEATURES_PATH) if f[-4:] == '.npy']\n",
    "print(len(all_files))\n",
    "print(all_files[:10])"
   ]
  },
  {
   "cell_type": "code",
   "execution_count": null,
   "metadata": {
    "collapsed": true
   },
   "outputs": [],
   "source": []
  }
 ],
 "metadata": {
  "kernelspec": {
   "display_name": "Python 2",
   "language": "python",
   "name": "python2"
  },
  "language_info": {
   "codemirror_mode": {
    "name": "ipython",
    "version": 2
   },
   "file_extension": ".py",
   "mimetype": "text/x-python",
   "name": "python",
   "nbconvert_exporter": "python",
   "pygments_lexer": "ipython2",
   "version": "2.7.3"
  }
 },
 "nbformat": 4,
 "nbformat_minor": 0
}
