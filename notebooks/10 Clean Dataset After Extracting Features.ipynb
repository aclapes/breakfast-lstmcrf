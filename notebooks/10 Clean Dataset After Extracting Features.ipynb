{
 "cells": [
  {
   "cell_type": "code",
   "execution_count": 4,
   "metadata": {
    "collapsed": false
   },
   "outputs": [
    {
     "name": "stdout",
     "output_type": "stream",
     "text": [
      "Loading dataset\n",
      "Videos already downloaded: 19633 videos\n",
      "Total number of videos: 19633 videos\n"
     ]
    }
   ],
   "source": [
    "import json\n",
    "from os import listdir\n",
    "\n",
    "from work.dataset.activitynet import ActivityNetDataset\n",
    "from work.config import (STORED_FEATURES_PATH, STORED_VIDEOS_EXTENSION,\n",
    "                         STORED_VIDEOS_PATH)\n",
    "\n",
    "# Loading dataset\n",
    "print('Loading dataset')\n",
    "dataset = ActivityNetDataset(\n",
    "    videos_path='../dataset/videos.json',\n",
    "    labels_path='../dataset/labels.txt'\n",
    ")\n",
    "# Removing the videos which wasn't able to extract its features\n",
    "features_ids = [f[:-4] for f in listdir(STORED_FEATURES_PATH) if f[-4:] == '.npy']\n",
    "print('Videos already extracted its features: {} videos'.format(len(features_ids)))\n",
    "to_remove = []\n",
    "for video in dataset.videos:\n",
    "    if video.video_id not in features_ids:\n",
    "        to_remove.append(video)\n",
    "for video in to_remove:\n",
    "    dataset.videos.remove(video)\n",
    "nb_videos = len(dataset.videos)\n",
    "print('Total number of videos: {} videos'.format(nb_videos))\n",
    "json_dataset = dataset.serialize()\n",
    "\n",
    "with open('videos.json', 'w') as f:\n",
    "    json.dump(json_dataset, f)"
   ]
  },
  {
   "cell_type": "code",
   "execution_count": null,
   "metadata": {
    "collapsed": true
   },
   "outputs": [],
   "source": []
  }
 ],
 "metadata": {
  "kernelspec": {
   "display_name": "Python 2",
   "language": "python",
   "name": "python2"
  },
  "language_info": {
   "codemirror_mode": {
    "name": "ipython",
    "version": 2
   },
   "file_extension": ".py",
   "mimetype": "text/x-python",
   "name": "python",
   "nbconvert_exporter": "python",
   "pygments_lexer": "ipython2",
   "version": "2.7.3"
  }
 },
 "nbformat": 4,
 "nbformat_minor": 0
}
