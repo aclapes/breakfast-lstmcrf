{
 "cells": [
  {
   "cell_type": "code",
   "execution_count": 41,
   "metadata": {
    "collapsed": false
   },
   "outputs": [
    {
     "name": "stdout",
     "output_type": "stream",
     "text": [
      "Loading dataset\n",
      "Number of instances: 4078435\n"
     ]
    }
   ],
   "source": [
    "import random\n",
    "import numpy as np\n",
    "\n",
    "from work.config import STORED_FEATURES_PATH\n",
    "from work.dataset.activitynet import ActivityNetDataset\n",
    "\n",
    "length = 16\n",
    "sequence_length = 20\n",
    "batch_size = 256\n",
    "# Loading dataset\n",
    "print('Loading dataset')\n",
    "dataset = ActivityNetDataset(\n",
    "    videos_path='../dataset/videos.json',\n",
    "    labels_path='../dataset/labels.txt'\n",
    ")\n",
    "nb_instances = sum([video.num_frames // length for video in dataset.videos])\n",
    "print('Number of instances: %d' % nb_instances)\n",
    "\n",
    "\n",
    "stacks = []\n",
    "for _ in range(batch_size):\n",
    "    stacks.append([])\n",
    "stacks_size = np.zeros(batch_size)\n",
    "\n",
    "videos = dataset.videos\n",
    "random.shuffle(videos)\n",
    "\n",
    "for video in videos:\n",
    "    pos = np.argmin(stacks_size)\n",
    "    stacks[pos] += [video]\n",
    "    stacks_size[pos] += video.num_frames//16\n"
   ]
  },
  {
   "cell_type": "code",
   "execution_count": 42,
   "metadata": {
    "collapsed": false
   },
   "outputs": [
    {
     "name": "stdout",
     "output_type": "stream",
     "text": [
      "49\n",
      "15797.0\n"
     ]
    }
   ],
   "source": [
    "print(np.argmin(stacks_size))\n",
    "print(np.min(stacks_size))"
   ]
  },
  {
   "cell_type": "code",
   "execution_count": 43,
   "metadata": {
    "collapsed": false
   },
   "outputs": [
    {
     "name": "stdout",
     "output_type": "stream",
     "text": [
      "91\n",
      "16256.0\n"
     ]
    }
   ],
   "source": [
    "print(np.argmax(stacks_size))\n",
    "print(np.max(stacks_size))"
   ]
  },
  {
   "cell_type": "code",
   "execution_count": 18,
   "metadata": {
    "collapsed": true
   },
   "outputs": [],
   "source": [
    "import numpy as np\n",
    "\n",
    "data = np.zeros((batch_size, max_seq, 4096))"
   ]
  },
  {
   "cell_type": "code",
   "execution_count": 20,
   "metadata": {
    "collapsed": false
   },
   "outputs": [
    {
     "data": {
      "text/plain": [
       "(256, 16410, 4096)"
      ]
     },
     "execution_count": 20,
     "metadata": {},
     "output_type": "execute_result"
    }
   ],
   "source": [
    "data.shape"
   ]
  },
  {
   "cell_type": "code",
   "execution_count": 27,
   "metadata": {
    "collapsed": false,
    "scrolled": true
   },
   "outputs": [
    {
     "name": "stdout",
     "output_type": "stream",
     "text": [
      "[[1 2 3 4]\n",
      " [2 5 7 8]\n",
      " [9 8 7 6]]\n",
      "(3, 4)\n",
      "[[[1 2]\n",
      "  [2 5]\n",
      "  [9 8]]\n",
      "\n",
      " [[3 4]\n",
      "  [7 8]\n",
      "  [7 6]]]\n",
      "(2, 3, 2)\n"
     ]
    }
   ],
   "source": [
    "# How to reshape all the data loaded\n",
    "\n",
    "a = np.array([[1,2,3,4],[2,5,7,8], [9,8,7,6]])\n",
    "print(a)\n",
    "print(a.shape)\n",
    "b=a.reshape((3,2,2))\n",
    "b=b.transpose(1,0,2)\n",
    "print(b)\n",
    "print(b.shape)"
   ]
  }
 ],
 "metadata": {
  "kernelspec": {
   "display_name": "Python 3",
   "language": "python",
   "name": "python3"
  },
  "language_info": {
   "codemirror_mode": {
    "name": "ipython",
    "version": 3
   },
   "file_extension": ".py",
   "mimetype": "text/x-python",
   "name": "python",
   "nbconvert_exporter": "python",
   "pygments_lexer": "ipython3",
   "version": "3.5.1"
  }
 },
 "nbformat": 4,
 "nbformat_minor": 0
}
