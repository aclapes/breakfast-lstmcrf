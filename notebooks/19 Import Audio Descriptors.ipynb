{
 "cells": [
  {
   "cell_type": "code",
   "execution_count": 1,
   "metadata": {
    "collapsed": true
   },
   "outputs": [],
   "source": [
    "import os\n",
    "import numpy as np\n",
    "\n",
    "path = '/imatge/iesquerra/ActivityNet/demo/'\n",
    "\n",
    "mfcc_file = 'demo.mfcc'\n",
    "spec_file = 'demo.spec'\n",
    "\n",
    "mfcc = np.loadtxt(os.path.join(path, mfcc_file), dtype=np.float32)"
   ]
  },
  {
   "cell_type": "code",
   "execution_count": 2,
   "metadata": {
    "collapsed": false
   },
   "outputs": [
    {
     "name": "stdout",
     "output_type": "stream",
     "text": [
      "[[ -5.47801113e+00  -8.13396990e-01  -6.66290000e-02 ...,   1.01948000e-01\n",
      "   -6.09360002e-02   5.50600002e-03]\n",
      " [ -7.90406990e+00  -1.49274504e+00  -1.07159603e+00 ...,   7.49209970e-02\n",
      "   -5.71160018e-02   1.31050004e-02]\n",
      " [ -8.36520672e+00  -7.84084022e-01  -6.75651014e-01 ...,   6.60329983e-02\n",
      "   -3.50520015e-02   2.95710005e-02]\n",
      " ..., \n",
      " [ -4.84021008e-01  -1.40968895e+00   5.40458024e-01 ...,  -8.33870023e-02\n",
      "   -7.32600018e-02   2.38780007e-02]\n",
      " [ -7.72388995e-01  -2.04338789e+00  -4.80830014e-01 ...,  -8.94400030e-02\n",
      "    1.06899999e-02   6.42710030e-02]\n",
      " [ -6.86340034e-02  -1.41947496e+00  -6.89119995e-01 ...,  -3.39160003e-02\n",
      "    5.74479997e-02   6.51799981e-03]]\n"
     ]
    }
   ],
   "source": [
    "print(mfcc)"
   ]
  },
  {
   "cell_type": "code",
   "execution_count": 10,
   "metadata": {
    "collapsed": false
   },
   "outputs": [
    {
     "name": "stdout",
     "output_type": "stream",
     "text": [
      "{u'lowlevel': {u'spectral_energy': {u'min': 1.05755025159e-20, u'max': 0.515338480473, u'dmean': 0.00707145128399, u'var': 0.00134308030829, u'dvar': 0.000576299149543, u'mean': 0.0147134829313}, u'spectral_entropy': {u'min': 2.26971364021, u'max': 9.80718135834, u'dmean': 0.233641266823, u'var': 0.57353490591, u'dvar': 0.0825324803591, u'mean': 7.09656143188}, u'spectral_centroid': {u'min': 165.09437561, u'max': 11445.8769531, u'dmean': 243.321640015, u'var': 860302, u'dvar': 210844.796875, u'mean': 1050.51525879}, u'spectral_spread': {u'min': 283079.875, u'max': 40309060, u'dmean': 547051.4375, u'var': 4653712932860.0, u'dvar': 865747861504, u'mean': 3447203.75}}}\n"
     ]
    }
   ],
   "source": [
    "import json\n",
    "\n",
    "with open(os.path.join(path, spec_file), 'r') as f:\n",
    "    txt = f.read() + '}'\n",
    "    spec = json.loads(txt)\n",
    "    \n",
    "print(spec)"
   ]
  },
  {
   "cell_type": "code",
   "execution_count": null,
   "metadata": {
    "collapsed": true
   },
   "outputs": [],
   "source": []
  }
 ],
 "metadata": {
  "kernelspec": {
   "display_name": "Python 2",
   "language": "python",
   "name": "python2"
  },
  "language_info": {
   "codemirror_mode": {
    "name": "ipython",
    "version": 2
   },
   "file_extension": ".py",
   "mimetype": "text/x-python",
   "name": "python",
   "nbconvert_exporter": "python",
   "pygments_lexer": "ipython2",
   "version": "2.7.3"
  }
 },
 "nbformat": 4,
 "nbformat_minor": 0
}
