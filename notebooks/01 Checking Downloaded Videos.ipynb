{
 "cells": [
  {
   "cell_type": "markdown",
   "metadata": {},
   "source": [
    "# Checking Downloaded Videos\n",
    "Due all the videos are located at YouTube, not all the videos have been downloaded (due to geografic restrictions, removed by the owner), so I must clean and store all the information of the successfully downloaded videos.\n",
    "\n",
    "First step is to chech which videos have been downloaded."
   ]
  },
  {
   "cell_type": "code",
   "execution_count": 4,
   "metadata": {
    "collapsed": false
   },
   "outputs": [],
   "source": [
    "import os\n",
    "import json\n",
    "\n",
    "DOWNLOAD_DIR = '/imatge/amontes/work/datasets/ActivityNet/v1.3/videos'\n",
    "\n",
    "videos = os.listdir(DOWNLOAD_DIR)\n",
    "\n",
    "videos_ids = []\n",
    "for video in videos:\n",
    "    videos_ids.append(video.split('.mp4')[0])"
   ]
  },
  {
   "cell_type": "markdown",
   "metadata": {},
   "source": [
    "Now lets load the original dataset and remove all the videos which have not been downloaded."
   ]
  },
  {
   "cell_type": "code",
   "execution_count": 5,
   "metadata": {
    "collapsed": false
   },
   "outputs": [
    {
     "name": "stdout",
     "output_type": "stream",
     "text": [
      "Number of videos of the original dataset: 19994 videos.\n",
      "Number of videos successfully downloaded: 19792 videos\n"
     ]
    }
   ],
   "source": [
    "with open('../dataset/originals/activity_net.v1-3.min.json', 'r') as f:\n",
    "    dataset = json.load(f)\n",
    "print('Number of videos of the original dataset: {} videos.'.format(len(dataset['database'].keys())))\n",
    "\n",
    "for key in dataset['database'].keys():\n",
    "    if key not in videos_ids:\n",
    "        del dataset['database'][key]\n",
    "\n",
    "print('Number of videos successfully downloaded: {} videos'.format(len(dataset['database'].keys())))"
   ]
  },
  {
   "cell_type": "code",
   "execution_count": 6,
   "metadata": {
    "collapsed": true
   },
   "outputs": [],
   "source": [
    "with open('../dataset/tmp/dataset_downloaded.json', 'w') as f:\n",
    "    json.dump(dataset, f)"
   ]
  },
  {
   "cell_type": "markdown",
   "metadata": {},
   "source": [
    "Now, a information very important to extract for each video are its number of frames. This would be very helpful for future computations, so lets run the script at `python/tools/`:\n",
    "```sh\n",
    "python get_nb_frames.py ../../dataset/tmp/dataset_downloaded.json ../../dataset/tmp/dataset_downloaded_nb_frames.json\n",
    "```\n"
   ]
  },
  {
   "cell_type": "code",
   "execution_count": 10,
   "metadata": {
    "collapsed": false
   },
   "outputs": [
    {
     "name": "stdout",
     "output_type": "stream",
     "text": [
      "Number of videos successfully downloaded: 19757\n"
     ]
    }
   ],
   "source": [
    "with open('../dataset/tmp/dataset_downloaded_nb_frames.json', 'r') as f:\n",
    "    dataset = json.load(f)\n",
    "# Removing the videos which has been impossible to read with OpenCV (a minor number)\n",
    "for key in dataset['database'].keys():\n",
    "    if dataset['database'][key]['num_frames'] is None:\n",
    "        del dataset['database'][key]\n",
    "\n",
    "print('Number of videos successfully downloaded: {}'.format(len(dataset['database'].keys())))"
   ]
  },
  {
   "cell_type": "markdown",
   "metadata": {},
   "source": [
    "Now with all the dataset I am going to work with, I'll store separetly the videos information and labels available. Because the labels are represented as a tree of activities, I'll get only the leaf nodes because this are the same labels the videos are tagged with."
   ]
  },
  {
   "cell_type": "code",
   "execution_count": 11,
   "metadata": {
    "collapsed": false
   },
   "outputs": [],
   "source": [
    "taxonomy = dataset['taxonomy']\n",
    "all_node_ids = [x[\"nodeId\"] for x in taxonomy]\n",
    "leaf_node_ids = []\n",
    "for x in all_node_ids:\n",
    "    is_parent = False\n",
    "    for query_node in taxonomy:\n",
    "        if query_node[\"parentId\"]==x: is_parent = True\n",
    "    if not is_parent: leaf_node_ids.append(x)\n",
    "leaf_nodes = [x for x in taxonomy if x[\"nodeId\"] in  leaf_node_ids]\n",
    "\n",
    "with open('../dataset/labels.txt', 'w') as f:\n",
    "    # Write down the none activity\n",
    "    f.write('{}\\t{}\\n'.format(0, 'none'))\n",
    "    for i in range(len(leaf_nodes)):\n",
    "        f.write('{}\\t{}\\n'.format(i+1, leaf_nodes[i]['nodeName']))\n",
    "        \n",
    "with open('../dataset/videos.json', 'w') as f:\n",
    "    json.dump(dataset['database'], f)"
   ]
  }
 ],
 "metadata": {
  "kernelspec": {
   "display_name": "Python 2",
   "language": "python",
   "name": "python2"
  },
  "language_info": {
   "codemirror_mode": {
    "name": "ipython",
    "version": 2
   },
   "file_extension": ".py",
   "mimetype": "text/x-python",
   "name": "python",
   "nbconvert_exporter": "python",
   "pygments_lexer": "ipython2",
   "version": "2.7.3"
  }
 },
 "nbformat": 4,
 "nbformat_minor": 0
}
